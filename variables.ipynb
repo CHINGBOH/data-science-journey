{
 "cells": [
  {
   "cell_type": "markdown",
   "metadata": {},
   "source": [
    "# Variables Practice / 变量练习\n",
    "\n",
    "## What you can do here / 这里你可以做什么\n",
    "\n",
    "### English\n",
    "- Practice Python variable assignment and manipulation\n",
    "- Learn different data types and their usage\n",
    "- Explore variable naming conventions\n",
    "\n",
    "### 中文\n",
    "- 练习Python变量赋值和操作\n",
    "- 学习不同的数据类型及其用法\n",
    "- 探索变量命名约定"
   ]
  },
  {
   "cell_type": "code",
   "execution_count": null,
   "metadata": {},
   "outputs": [],
   "source": [
    "# Example variables / 示例变量\n",
    "\n",
    "# Numbers / 数字\n",
    "age = 25\n",
    "height = 1.75\n",
    "\n",
    "# Strings / 字符串\n",
    "name = \"Data Scientist\"\n",
    "greeting = \"你好, 世界!\"  # Hello, World! in Chinese\n",
    "\n",
    "# Boolean / 布尔值\n",
    "is_learning = True\n",
    "\n",
    "# Lists / 列表\n",
    "skills = [\"Python\", \"Pandas\", \"NumPy\", \"Machine Learning\"]\n",
    "\n",
    "print(f\"Name: {name}\")\n",
    "print(f\"Age: {age}\")\n",
    "print(f\"Height: {height}m\")\n",
    "print(f\"Greeting: {greeting}\")\n",
    "print(f\"Learning: {is_learning}\")\n",
    "print(f\"Skills: {skills}\")"
   ]
  }
 ],
 "metadata": {
  "kernelspec": {
   "display_name": "Python 3",
   "language": "python",
   "name": "python3"
  },
  "language_info": {
   "codemirror_mode": {
    "name": "ipython",
    "version": 3
   },
   "file_extension": ".py",
   "mimetype": "text/x-python",
   "name": "python",
   "nbconvert_exporter": "python",
   "pygments_lexer": "ipython3",
   "version": "3.8.5"
  }
 },
 "nbformat": 4,
 "nbformat_minor": 4
}
